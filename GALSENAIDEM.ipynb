{
  "nbformat": 4,
  "nbformat_minor": 0,
  "metadata": {
    "colab": {
      "name": "GALSENAIDEM.ipynb",
      "version": "0.3.2",
      "provenance": [],
      "collapsed_sections": []
    },
    "kernelspec": {
      "name": "python3",
      "display_name": "Python 3"
    }
  },
  "cells": [
    {
      "metadata": {
        "id": "tkcmQTIVN4VT",
        "colab_type": "text"
      },
      "cell_type": "markdown",
      "source": [
        "****TENSERFLOW BASICS  👻**** \n",
        "---\n",
        "\n"
      ]
    },
    {
      "metadata": {
        "id": "SWDWhVz7RUIU",
        "colab_type": "text"
      },
      "cell_type": "markdown",
      "source": [
        "*Les bibliothèques requises*\n",
        "\n",
        "> TensorFlow\n",
        "\n",
        "> Pandas pour la lecture de csv - affichage\n",
        "\n",
        "> NumPy pour les operations mathèmatiques\n",
        "\n",
        "> Sklearn pour les operations de Scale and Split\n",
        "\n"
      ]
    },
    {
      "metadata": {
        "id": "Hsadt8nxORBH",
        "colab_type": "code",
        "colab": {}
      },
      "cell_type": "code",
      "source": [
        "import io\n",
        "from google.colab import files\n",
        "import tensorflow as tf\n",
        "import pandas as pd\n",
        "import numpy as np\n",
        "from sklearn.model_selection import train_test_split\n",
        "from sklearn.preprocessing import MinMaxScaler\n",
        "from sklearn.metrics import classification_report\n"
      ],
      "execution_count": 0,
      "outputs": []
    },
    {
      "metadata": {
        "id": "D4hzW24s5cns",
        "colab_type": "text"
      },
      "cell_type": "markdown",
      "source": [
        "Ouverture d'un fichier csv"
      ]
    },
    {
      "metadata": {
        "id": "7il503dxAMXN",
        "colab_type": "text"
      },
      "cell_type": "markdown",
      "source": [
        "On importe le fichier << lr.csv >>"
      ]
    },
    {
      "metadata": {
        "id": "EzvhFfyAOhYI",
        "colab_type": "code",
        "colab": {}
      },
      "cell_type": "code",
      "source": [
        "uploaded = files.upload()"
      ],
      "execution_count": 0,
      "outputs": []
    },
    {
      "metadata": {
        "id": "g_W9mTnY9RJK",
        "colab_type": "code",
        "colab": {}
      },
      "cell_type": "code",
      "source": [
        "data = pd.read_csv(io.StringIO(uploaded['lr.csv'].decode('utf-8')))\n"
      ],
      "execution_count": 0,
      "outputs": []
    },
    {
      "metadata": {
        "id": "sM2Av2XiATA8",
        "colab_type": "text"
      },
      "cell_type": "markdown",
      "source": [
        "*On previsualise une partie des données*"
      ]
    },
    {
      "metadata": {
        "id": "H2kyniIEk96W",
        "colab_type": "code",
        "colab": {}
      },
      "cell_type": "code",
      "source": [
        "#"
      ],
      "execution_count": 0,
      "outputs": []
    },
    {
      "metadata": {
        "id": "QCOKhp38AfRn",
        "colab_type": "text"
      },
      "cell_type": "markdown",
      "source": [
        "***On commence ici le Feature Engineering***"
      ]
    },
    {
      "metadata": {
        "id": "LiO3Req-Asxg",
        "colab_type": "text"
      },
      "cell_type": "markdown",
      "source": [
        "*On définit X et y*"
      ]
    },
    {
      "metadata": {
        "id": "v5Jo6kKTejL1",
        "colab_type": "code",
        "colab": {}
      },
      "cell_type": "code",
      "source": [
        "#"
      ],
      "execution_count": 0,
      "outputs": []
    },
    {
      "metadata": {
        "id": "tn9dP_yZetfr",
        "colab_type": "code",
        "colab": {}
      },
      "cell_type": "code",
      "source": [
        "#"
      ],
      "execution_count": 0,
      "outputs": []
    },
    {
      "metadata": {
        "id": "GTPfVYMzAwkG",
        "colab_type": "text"
      },
      "cell_type": "markdown",
      "source": [
        "*On visualise les données avec un graphe*"
      ]
    },
    {
      "metadata": {
        "id": "Bg0KeVDne30b",
        "colab_type": "code",
        "colab": {}
      },
      "cell_type": "code",
      "source": [
        "#"
      ],
      "execution_count": 0,
      "outputs": []
    },
    {
      "metadata": {
        "id": "VyZGXamCBEaN",
        "colab_type": "text"
      },
      "cell_type": "markdown",
      "source": [
        "*On définit un graphe y = mX+ b  *"
      ]
    },
    {
      "metadata": {
        "id": "cV8R_UrXe9C_",
        "colab_type": "code",
        "colab": {}
      },
      "cell_type": "code",
      "source": [
        "#batch_size"
      ],
      "execution_count": 0,
      "outputs": []
    },
    {
      "metadata": {
        "id": "elWGYrn0BbYu",
        "colab_type": "text"
      },
      "cell_type": "markdown",
      "source": [
        "*On définit les variables*"
      ]
    },
    {
      "metadata": {
        "id": "nWavAMZkfiqi",
        "colab_type": "code",
        "colab": {}
      },
      "cell_type": "code",
      "source": [
        "#m =\n",
        "#b ="
      ],
      "execution_count": 0,
      "outputs": []
    },
    {
      "metadata": {
        "id": "47Q3Iw83WS5P",
        "colab_type": "text"
      },
      "cell_type": "markdown",
      "source": [
        "*On définit les PlaceHolders*"
      ]
    },
    {
      "metadata": {
        "id": "isiEMzMOfmT4",
        "colab_type": "code",
        "colab": {}
      },
      "cell_type": "code",
      "source": [
        "#xph\n",
        "#yph"
      ],
      "execution_count": 0,
      "outputs": []
    },
    {
      "metadata": {
        "id": "Y1AKsH4nB6Vz",
        "colab_type": "text"
      },
      "cell_type": "markdown",
      "source": [
        "*On définit le graphe que va etabllir TensorFlow *"
      ]
    },
    {
      "metadata": {
        "id": "SFP_SUa2frF8",
        "colab_type": "code",
        "colab": {}
      },
      "cell_type": "code",
      "source": [
        "#y_model"
      ],
      "execution_count": 0,
      "outputs": []
    },
    {
      "metadata": {
        "id": "G_R-1G2RCLYS",
        "colab_type": "text"
      },
      "cell_type": "markdown",
      "source": [
        "*On définit l'optimizer qui va permettre de minimiser l'erreur*"
      ]
    },
    {
      "metadata": {
        "id": "rQmuSJXJft_6",
        "colab_type": "code",
        "colab": {}
      },
      "cell_type": "code",
      "source": [
        "#error\n",
        "#optimizer\n",
        "#train"
      ],
      "execution_count": 0,
      "outputs": []
    },
    {
      "metadata": {
        "id": "TbSTED5JCd4h",
        "colab_type": "text"
      },
      "cell_type": "markdown",
      "source": [
        "*On initialise les variables globales *"
      ]
    },
    {
      "metadata": {
        "id": "YkMy9tdGfrDE",
        "colab_type": "code",
        "colab": {}
      },
      "cell_type": "code",
      "source": [
        "# init = "
      ],
      "execution_count": 0,
      "outputs": []
    },
    {
      "metadata": {
        "id": "RBCV2bzhCiUJ",
        "colab_type": "text"
      },
      "cell_type": "markdown",
      "source": [
        "*On demarre une session*\n",
        "\n",
        "*Pour un nombre de pas défini, on execute l'apprentissage afin d'obtenir m et b optimisés   *\n"
      ]
    },
    {
      "metadata": {
        "id": "6o-cq1Qjf8PU",
        "colab_type": "code",
        "colab": {}
      },
      "cell_type": "code",
      "source": [
        "# with tf.Session() as sess:"
      ],
      "execution_count": 0,
      "outputs": []
    },
    {
      "metadata": {
        "id": "jhWSPllsDEJ1",
        "colab_type": "text"
      },
      "cell_type": "markdown",
      "source": [
        "***Visualisation du résultat***"
      ]
    },
    {
      "metadata": {
        "id": "DOiuDNucf90G",
        "colab_type": "code",
        "colab": {}
      },
      "cell_type": "code",
      "source": [
        "y_hat = X * model_m + model_b\n",
        "data.sample(n=250).plot(kind='scatter',x='X Data',y='Y')\n",
        "plt.plot(X,y_hat,'red')"
      ],
      "execution_count": 0,
      "outputs": []
    },
    {
      "metadata": {
        "id": "GfzN4HQnYPf9",
        "colab_type": "text"
      },
      "cell_type": "markdown",
      "source": [
        "**CLASSIFICATION**"
      ]
    },
    {
      "metadata": {
        "id": "H7RuDfvNS_iS",
        "colab_type": "text"
      },
      "cell_type": "markdown",
      "source": [
        "On importe le fichier << lo_rs.csv >>"
      ]
    },
    {
      "metadata": {
        "id": "bmqc-H7aYUdB",
        "colab_type": "code",
        "colab": {}
      },
      "cell_type": "code",
      "source": [
        "fichierClass = files.upload()"
      ],
      "execution_count": 0,
      "outputs": []
    },
    {
      "metadata": {
        "id": "_UjRrvbOqMjP",
        "colab_type": "code",
        "colab": {}
      },
      "cell_type": "code",
      "source": [
        "data = pd.read_csv(io.StringIO(fichierClass['lo_rs.csv'].decode('utf-8')))\n"
      ],
      "execution_count": 0,
      "outputs": []
    },
    {
      "metadata": {
        "id": "fUd1e7JOqSWz",
        "colab_type": "code",
        "colab": {}
      },
      "cell_type": "code",
      "source": [
        "data.head()"
      ],
      "execution_count": 0,
      "outputs": []
    },
    {
      "metadata": {
        "id": "ZgT9LKwDqTw6",
        "colab_type": "code",
        "colab": {}
      },
      "cell_type": "code",
      "source": [
        "data.columns"
      ],
      "execution_count": 0,
      "outputs": []
    },
    {
      "metadata": {
        "id": "6MD_vIOfPgHB",
        "colab_type": "text"
      },
      "cell_type": "markdown",
      "source": [
        "*On définit X et y*"
      ]
    },
    {
      "metadata": {
        "id": "YiCsPNOkq-xR",
        "colab_type": "code",
        "colab": {}
      },
      "cell_type": "code",
      "source": [
        "# X = data.drop(['Purchased','User ID','Gender'],axis=1)"
      ],
      "execution_count": 0,
      "outputs": []
    },
    {
      "metadata": {
        "id": "qwdLuaRRrM2z",
        "colab_type": "code",
        "colab": {}
      },
      "cell_type": "code",
      "source": [
        "# y = data['Purchased']"
      ],
      "execution_count": 0,
      "outputs": []
    },
    {
      "metadata": {
        "id": "lZsXNegcPltL",
        "colab_type": "text"
      },
      "cell_type": "markdown",
      "source": [
        "*On effectue un split avec la methode train_test_split fournie par sklearn*"
      ]
    },
    {
      "metadata": {
        "id": "A0Jq-8BBrblJ",
        "colab_type": "code",
        "colab": {}
      },
      "cell_type": "code",
      "source": [
        "from sklearn.model_selection import train_test_split\n",
        "X_train, X_test, y_train, y_test = train_test_split(X,y,test_size=0.3,random_state=101)"
      ],
      "execution_count": 0,
      "outputs": []
    },
    {
      "metadata": {
        "id": "NhG-2aEfPro7",
        "colab_type": "text"
      },
      "cell_type": "markdown",
      "source": [
        "*On utilise la methode MinMaxScaler pour scaler(rendre à l'échelle) les données avec la formule => (x-min)/(max-min)*\n",
        "*On redefinit X_train et X_test en y intégrant les données mises en échelles*"
      ]
    },
    {
      "metadata": {
        "id": "cR9SRBitrhnA",
        "colab_type": "code",
        "colab": {}
      },
      "cell_type": "code",
      "source": [
        "from sklearn.preprocessing import MinMaxScaler\n",
        "scaler = MinMaxScaler()\n",
        "scaler.fit(X_train)\n",
        "X_train = pd.DataFrame(data=scaler.transform(X_train),columns = X_train.columns,index=X_train.index)\n",
        "X_test = pd.DataFrame(data=scaler.transform(X_test),columns = X_test.columns,index=X_test.index)"
      ],
      "execution_count": 0,
      "outputs": []
    },
    {
      "metadata": {
        "id": "813eXUahQfS7",
        "colab_type": "text"
      },
      "cell_type": "markdown",
      "source": [
        "*On définit les colonnes qui seront utilisées par TensorFlow*\n",
        "\n"
      ]
    },
    {
      "metadata": {
        "id": "xTfyTNwIqvEz",
        "colab_type": "code",
        "colab": {}
      },
      "cell_type": "code",
      "source": [
        "#age = \n",
        "#salary = \n",
        "#feat_cols = "
      ],
      "execution_count": 0,
      "outputs": []
    },
    {
      "metadata": {
        "id": "Y8mg7jRiQzAQ",
        "colab_type": "text"
      },
      "cell_type": "markdown",
      "source": [
        "*On définit ici l'input qui sera pris en entrée par TensorFlow *\n",
        "\n",
        "*Pour la phase d'apprentissage, on fournit X et y  *\n",
        "\n",
        "*Pour la phase de test on ne fournit que X*"
      ]
    },
    {
      "metadata": {
        "id": "-OqyL3-mutzc",
        "colab_type": "code",
        "colab": {}
      },
      "cell_type": "code",
      "source": [
        "# input_fn = \n",
        "# pred_fn = "
      ],
      "execution_count": 0,
      "outputs": []
    },
    {
      "metadata": {
        "id": "Bz18Z1BMRBXu",
        "colab_type": "text"
      },
      "cell_type": "markdown",
      "source": [
        "***Creation du modele***\n"
      ]
    },
    {
      "metadata": {
        "id": "uORODRHKvNuv",
        "colab_type": "code",
        "colab": {}
      },
      "cell_type": "code",
      "source": [
        "# modelClass"
      ],
      "execution_count": 0,
      "outputs": []
    },
    {
      "metadata": {
        "id": "nyq2T6M4RGob",
        "colab_type": "text"
      },
      "cell_type": "markdown",
      "source": [
        "*On entraine le modèle*"
      ]
    },
    {
      "metadata": {
        "id": "iJDC4MIavk0f",
        "colab_type": "code",
        "colab": {}
      },
      "cell_type": "code",
      "source": [
        "#modelClass.train()"
      ],
      "execution_count": 0,
      "outputs": []
    },
    {
      "metadata": {
        "id": "4GQjP5PkRP91",
        "colab_type": "text"
      },
      "cell_type": "markdown",
      "source": [
        "*On teste le modèle*"
      ]
    },
    {
      "metadata": {
        "id": "k_NQOti7wdmC",
        "colab_type": "code",
        "colab": {}
      },
      "cell_type": "code",
      "source": [
        "#predictions "
      ],
      "execution_count": 0,
      "outputs": []
    },
    {
      "metadata": {
        "id": "RscImvYXwtp4",
        "colab_type": "code",
        "colab": {}
      },
      "cell_type": "code",
      "source": [
        "# Affichons une prediction\n",
        "# predictions[0]"
      ],
      "execution_count": 0,
      "outputs": []
    },
    {
      "metadata": {
        "id": "PbaTFHNGRr2F",
        "colab_type": "text"
      },
      "cell_type": "markdown",
      "source": [
        "On evalue le modèle"
      ]
    },
    {
      "metadata": {
        "id": "zbc2MTFzRyHb",
        "colab_type": "text"
      },
      "cell_type": "markdown",
      "source": [
        "\n",
        "\n",
        "> On recupère les resultats du test\n",
        "\n"
      ]
    },
    {
      "metadata": {
        "id": "S1mJtY8ExAwy",
        "colab_type": "code",
        "colab": {}
      },
      "cell_type": "code",
      "source": [
        "final_preds = []\n",
        "for pred in predictions:\n",
        "    final_preds.append(pred['class_ids'][0])"
      ],
      "execution_count": 0,
      "outputs": []
    },
    {
      "metadata": {
        "id": "YiATHdbtxCaS",
        "colab_type": "code",
        "colab": {}
      },
      "cell_type": "code",
      "source": [
        "print(classification_report(y_test,final_preds))"
      ],
      "execution_count": 0,
      "outputs": []
    },
    {
      "metadata": {
        "id": "CSo0sVp49uqI",
        "colab_type": "text"
      },
      "cell_type": "markdown",
      "source": [
        "**Utilisation des NN**"
      ]
    },
    {
      "metadata": {
        "id": "koiS3mu2Sd9Y",
        "colab_type": "text"
      },
      "cell_type": "markdown",
      "source": [
        "> ***Ici on crée un modèle qui utilisera les NN***"
      ]
    },
    {
      "metadata": {
        "id": "tzuFOlPk91R1",
        "colab_type": "code",
        "colab": {}
      },
      "cell_type": "code",
      "source": [
        "# modelNN = "
      ],
      "execution_count": 0,
      "outputs": []
    },
    {
      "metadata": {
        "id": "FGFif0k1SuHo",
        "colab_type": "text"
      },
      "cell_type": "markdown",
      "source": [
        "> *On l'entraine*"
      ]
    },
    {
      "metadata": {
        "id": "4umvAqTe-bOT",
        "colab_type": "code",
        "colab": {}
      },
      "cell_type": "code",
      "source": [
        "modelNN.train(input_fn=input_fn,steps=10000)"
      ],
      "execution_count": 0,
      "outputs": []
    },
    {
      "metadata": {
        "id": "3jsz9fIqS2Pt",
        "colab_type": "text"
      },
      "cell_type": "markdown",
      "source": [
        "> *On le teste*"
      ]
    },
    {
      "metadata": {
        "id": "toIgavsK-m-S",
        "colab_type": "code",
        "colab": {}
      },
      "cell_type": "code",
      "source": [
        "# predictionsNN = "
      ],
      "execution_count": 0,
      "outputs": []
    },
    {
      "metadata": {
        "id": "MFDNmcxy-qGq",
        "colab_type": "code",
        "colab": {}
      },
      "cell_type": "code",
      "source": [
        "predictionsNN[0]"
      ],
      "execution_count": 0,
      "outputs": []
    },
    {
      "metadata": {
        "id": "NmQzgqwzS5WF",
        "colab_type": "text"
      },
      "cell_type": "markdown",
      "source": [
        "> *On l'evalue*"
      ]
    },
    {
      "metadata": {
        "id": "HjQflDXz-xjj",
        "colab_type": "code",
        "colab": {}
      },
      "cell_type": "code",
      "source": [
        "final_predsNN = []\n",
        "for pred in predictions:\n",
        "    final_predsNN.append(pred['class_ids'][0])"
      ],
      "execution_count": 0,
      "outputs": []
    },
    {
      "metadata": {
        "id": "4ZZJv57v-3TE",
        "colab_type": "code",
        "colab": {}
      },
      "cell_type": "code",
      "source": [
        "print(classification_report(y_test,final_predsNN))"
      ],
      "execution_count": 0,
      "outputs": []
    }
  ]
}